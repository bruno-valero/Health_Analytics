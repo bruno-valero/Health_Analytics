{
 "cells": [
  {
   "attachments": {},
   "cell_type": "markdown",
   "id": "6c4b0a02",
   "metadata": {},
   "source": [
    "# Health Analytics\n",
    "\n",
    "- **nota:** O conteúdo deste projeto analítico foi feito com apoio de uma pessoa que conhece a áre a da saúde. Portanto é importante que o Analista ou Cientista de dados tenha ajuda dos profissionais que entendem da área ao qual o projeto está direcionado (é bom que o analista ou cientista de dados tenha algum conhecimento sobre o negócio em questão, porém sua funcão é analizar os dados e tirar insights que ajudem na tomada de decisão, ele não tem a obrigação de entender as regras de negócio de cada empreza, por isso é interessante que um profissional da área o acompanhe e forneça informações/auxílio a respeito da área em questão)"
   ]
  },
  {
   "cell_type": "markdown",
   "id": "e61ea90e",
   "metadata": {},
   "source": []
  },
  {
   "attachments": {},
   "cell_type": "markdown",
   "id": "b29d61e7",
   "metadata": {},
   "source": [
    "**Importando pacotes necessários**"
   ]
  },
  {
   "cell_type": "code",
   "execution_count": 4,
   "id": "e225e446-4d40-4566-ad50-1ce369e267ce",
   "metadata": {},
   "outputs": [],
   "source": [
    "# base requirements\n",
    "import pandas as pd\n",
    "import numpy as np\n",
    "\n",
    "\n",
    "# my package\n",
    "import datascience.dataset.analysis\n",
    "Dataset = datascience.dataset.analysis.Dataset"
   ]
  },
  {
   "cell_type": "code",
   "execution_count": 5,
   "id": "e3f31e7c",
   "metadata": {},
   "outputs": [],
   "source": [
    "ds = Dataset()"
   ]
  },
  {
   "cell_type": "code",
   "execution_count": null,
   "id": "181a6f45",
   "metadata": {},
   "outputs": [],
   "source": []
  }
 ],
 "metadata": {
  "kernelspec": {
   "display_name": "venv",
   "language": "python",
   "name": "python3"
  },
  "language_info": {
   "codemirror_mode": {
    "name": "ipython",
    "version": 3
   },
   "file_extension": ".py",
   "mimetype": "text/x-python",
   "name": "python",
   "nbconvert_exporter": "python",
   "pygments_lexer": "ipython3",
   "version": "3.11.0"
  },
  "vscode": {
   "interpreter": {
    "hash": "2ec20218199aabc889a6115fb4755d5345e2266df44f4d5115123fc8ee27a931"
   }
  }
 },
 "nbformat": 4,
 "nbformat_minor": 5
}
